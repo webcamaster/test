{
  "nbformat": 4,
  "nbformat_minor": 0,
  "metadata": {
    "colab": {
      "name": "TEST infotecs (data analyst).ipynb",
      "provenance": [],
      "collapsed_sections": [
        "dV2gVRyEsFoh",
        "RcGb09zbsFsJ",
        "P9zAZtXZsFz3",
        "ex8-SNiCsY9w"
      ]
    },
    "kernelspec": {
      "name": "python3",
      "display_name": "Python 3"
    },
    "language_info": {
      "name": "python"
    }
  },
  "cells": [
    {
      "cell_type": "code",
      "execution_count": null,
      "metadata": {
        "id": "w3K8ETp6rN8-"
      },
      "outputs": [],
      "source": [
        "import pandas as pd\n",
        "import numpy as np\n",
        "import seaborn as sns\n",
        "sns.set(rc={'figure.figsize':(9.7,6.27)})\n",
        "from sklearn.preprocessing import StandardScaler\n",
        "from sklearn.linear_model import LinearRegression"
      ]
    },
    {
      "cell_type": "markdown",
      "source": [
        "# Задание №1\n",
        "\n",
        "    В таблице 1 представлены результаты измерений производительности сетевых устройств №1 и №2. Они являются результатом \n",
        "    серии экспериментов по проверке метода измерения производительности. Известно, что для всех устройств тестировали 1G \n",
        "    интерфейс однородной смесью UDP-трафика."
      ],
      "metadata": {
        "id": "hHsM3NH8rZ0n"
      }
    },
    {
      "cell_type": "markdown",
      "source": [
        "\n",
        "\n",
        "---\n",
        "\n",
        "\n",
        "####  Часть 1.\tСпрогнозировать значение UDP Throughput для сетевого устройства №3, имеющего параметры: \n",
        "* Тактовая частота процессора: 2000 ГГц. \n",
        "* Утилизация процессора: 40%.\n",
        "* Температура процессора: 54 °С.\n"
      ],
      "metadata": {
        "id": "ECwOl_YHrc-v"
      }
    },
    {
      "cell_type": "code",
      "source": [
        "dict_1 = {'Номер замера': [1, 2, 3, 4, 5, 6, 7, 8, 9, 10, 11],\n",
        "          'Сетевое устройство': [1, 1, 1, 1, 1, 2, 2, 2, 2, 2, 3],\n",
        "          'Тактовая частота ЦП, ГГц': [1500, 1500, 1500, 1500, 1500, 2600, 2600, 2600, 2600, 2600, 2000],\n",
        "          'UDP Throughput, Мбит/с': [600, 650, 700, 750, 900, 750, 800, 850, 900, 600, 'NaN'],\n",
        "          'Утилизация ЦП, %':[50, 55, 60, 65, 70, 35, 40, 45, 50, 30, 40],\n",
        "          'Температура ЦП, °С':[38, 45, 52, 60, 67, 30, 31, 32, 33, 28, 54]}\n",
        "data_1 = pd.DataFrame(data=dict_1)\n",
        "# data_1 = pd.read_excel('data_1.xlsx')\n",
        "data_1 = data_1.drop('Номер замера', axis=1)\n",
        "data_1"
      ],
      "metadata": {
        "colab": {
          "base_uri": "https://localhost:8080/",
          "height": 394
        },
        "id": "KOPXU5MyrXcg",
        "outputId": "0e6d546f-d082-4628-b9c4-d0d902e7c706"
      },
      "execution_count": null,
      "outputs": [
        {
          "output_type": "execute_result",
          "data": {
            "text/plain": [
              "    Сетевое устройство  Тактовая частота ЦП, ГГц UDP Throughput, Мбит/с  \\\n",
              "0                    1                      1500                    600   \n",
              "1                    1                      1500                    650   \n",
              "2                    1                      1500                    700   \n",
              "3                    1                      1500                    750   \n",
              "4                    1                      1500                    900   \n",
              "5                    2                      2600                    750   \n",
              "6                    2                      2600                    800   \n",
              "7                    2                      2600                    850   \n",
              "8                    2                      2600                    900   \n",
              "9                    2                      2600                    600   \n",
              "10                   3                      2000                    NaN   \n",
              "\n",
              "    Утилизация ЦП, %  Температура ЦП, °С  \n",
              "0                 50                  38  \n",
              "1                 55                  45  \n",
              "2                 60                  52  \n",
              "3                 65                  60  \n",
              "4                 70                  67  \n",
              "5                 35                  30  \n",
              "6                 40                  31  \n",
              "7                 45                  32  \n",
              "8                 50                  33  \n",
              "9                 30                  28  \n",
              "10                40                  54  "
            ],
            "text/html": [
              "\n",
              "  <div id=\"df-69148215-2aa2-4877-beaa-acf4399191b3\">\n",
              "    <div class=\"colab-df-container\">\n",
              "      <div>\n",
              "<style scoped>\n",
              "    .dataframe tbody tr th:only-of-type {\n",
              "        vertical-align: middle;\n",
              "    }\n",
              "\n",
              "    .dataframe tbody tr th {\n",
              "        vertical-align: top;\n",
              "    }\n",
              "\n",
              "    .dataframe thead th {\n",
              "        text-align: right;\n",
              "    }\n",
              "</style>\n",
              "<table border=\"1\" class=\"dataframe\">\n",
              "  <thead>\n",
              "    <tr style=\"text-align: right;\">\n",
              "      <th></th>\n",
              "      <th>Сетевое устройство</th>\n",
              "      <th>Тактовая частота ЦП, ГГц</th>\n",
              "      <th>UDP Throughput, Мбит/с</th>\n",
              "      <th>Утилизация ЦП, %</th>\n",
              "      <th>Температура ЦП, °С</th>\n",
              "    </tr>\n",
              "  </thead>\n",
              "  <tbody>\n",
              "    <tr>\n",
              "      <th>0</th>\n",
              "      <td>1</td>\n",
              "      <td>1500</td>\n",
              "      <td>600</td>\n",
              "      <td>50</td>\n",
              "      <td>38</td>\n",
              "    </tr>\n",
              "    <tr>\n",
              "      <th>1</th>\n",
              "      <td>1</td>\n",
              "      <td>1500</td>\n",
              "      <td>650</td>\n",
              "      <td>55</td>\n",
              "      <td>45</td>\n",
              "    </tr>\n",
              "    <tr>\n",
              "      <th>2</th>\n",
              "      <td>1</td>\n",
              "      <td>1500</td>\n",
              "      <td>700</td>\n",
              "      <td>60</td>\n",
              "      <td>52</td>\n",
              "    </tr>\n",
              "    <tr>\n",
              "      <th>3</th>\n",
              "      <td>1</td>\n",
              "      <td>1500</td>\n",
              "      <td>750</td>\n",
              "      <td>65</td>\n",
              "      <td>60</td>\n",
              "    </tr>\n",
              "    <tr>\n",
              "      <th>4</th>\n",
              "      <td>1</td>\n",
              "      <td>1500</td>\n",
              "      <td>900</td>\n",
              "      <td>70</td>\n",
              "      <td>67</td>\n",
              "    </tr>\n",
              "    <tr>\n",
              "      <th>5</th>\n",
              "      <td>2</td>\n",
              "      <td>2600</td>\n",
              "      <td>750</td>\n",
              "      <td>35</td>\n",
              "      <td>30</td>\n",
              "    </tr>\n",
              "    <tr>\n",
              "      <th>6</th>\n",
              "      <td>2</td>\n",
              "      <td>2600</td>\n",
              "      <td>800</td>\n",
              "      <td>40</td>\n",
              "      <td>31</td>\n",
              "    </tr>\n",
              "    <tr>\n",
              "      <th>7</th>\n",
              "      <td>2</td>\n",
              "      <td>2600</td>\n",
              "      <td>850</td>\n",
              "      <td>45</td>\n",
              "      <td>32</td>\n",
              "    </tr>\n",
              "    <tr>\n",
              "      <th>8</th>\n",
              "      <td>2</td>\n",
              "      <td>2600</td>\n",
              "      <td>900</td>\n",
              "      <td>50</td>\n",
              "      <td>33</td>\n",
              "    </tr>\n",
              "    <tr>\n",
              "      <th>9</th>\n",
              "      <td>2</td>\n",
              "      <td>2600</td>\n",
              "      <td>600</td>\n",
              "      <td>30</td>\n",
              "      <td>28</td>\n",
              "    </tr>\n",
              "    <tr>\n",
              "      <th>10</th>\n",
              "      <td>3</td>\n",
              "      <td>2000</td>\n",
              "      <td>NaN</td>\n",
              "      <td>40</td>\n",
              "      <td>54</td>\n",
              "    </tr>\n",
              "  </tbody>\n",
              "</table>\n",
              "</div>\n",
              "      <button class=\"colab-df-convert\" onclick=\"convertToInteractive('df-69148215-2aa2-4877-beaa-acf4399191b3')\"\n",
              "              title=\"Convert this dataframe to an interactive table.\"\n",
              "              style=\"display:none;\">\n",
              "        \n",
              "  <svg xmlns=\"http://www.w3.org/2000/svg\" height=\"24px\"viewBox=\"0 0 24 24\"\n",
              "       width=\"24px\">\n",
              "    <path d=\"M0 0h24v24H0V0z\" fill=\"none\"/>\n",
              "    <path d=\"M18.56 5.44l.94 2.06.94-2.06 2.06-.94-2.06-.94-.94-2.06-.94 2.06-2.06.94zm-11 1L8.5 8.5l.94-2.06 2.06-.94-2.06-.94L8.5 2.5l-.94 2.06-2.06.94zm10 10l.94 2.06.94-2.06 2.06-.94-2.06-.94-.94-2.06-.94 2.06-2.06.94z\"/><path d=\"M17.41 7.96l-1.37-1.37c-.4-.4-.92-.59-1.43-.59-.52 0-1.04.2-1.43.59L10.3 9.45l-7.72 7.72c-.78.78-.78 2.05 0 2.83L4 21.41c.39.39.9.59 1.41.59.51 0 1.02-.2 1.41-.59l7.78-7.78 2.81-2.81c.8-.78.8-2.07 0-2.86zM5.41 20L4 18.59l7.72-7.72 1.47 1.35L5.41 20z\"/>\n",
              "  </svg>\n",
              "      </button>\n",
              "      \n",
              "  <style>\n",
              "    .colab-df-container {\n",
              "      display:flex;\n",
              "      flex-wrap:wrap;\n",
              "      gap: 12px;\n",
              "    }\n",
              "\n",
              "    .colab-df-convert {\n",
              "      background-color: #E8F0FE;\n",
              "      border: none;\n",
              "      border-radius: 50%;\n",
              "      cursor: pointer;\n",
              "      display: none;\n",
              "      fill: #1967D2;\n",
              "      height: 32px;\n",
              "      padding: 0 0 0 0;\n",
              "      width: 32px;\n",
              "    }\n",
              "\n",
              "    .colab-df-convert:hover {\n",
              "      background-color: #E2EBFA;\n",
              "      box-shadow: 0px 1px 2px rgba(60, 64, 67, 0.3), 0px 1px 3px 1px rgba(60, 64, 67, 0.15);\n",
              "      fill: #174EA6;\n",
              "    }\n",
              "\n",
              "    [theme=dark] .colab-df-convert {\n",
              "      background-color: #3B4455;\n",
              "      fill: #D2E3FC;\n",
              "    }\n",
              "\n",
              "    [theme=dark] .colab-df-convert:hover {\n",
              "      background-color: #434B5C;\n",
              "      box-shadow: 0px 1px 3px 1px rgba(0, 0, 0, 0.15);\n",
              "      filter: drop-shadow(0px 1px 2px rgba(0, 0, 0, 0.3));\n",
              "      fill: #FFFFFF;\n",
              "    }\n",
              "  </style>\n",
              "\n",
              "      <script>\n",
              "        const buttonEl =\n",
              "          document.querySelector('#df-69148215-2aa2-4877-beaa-acf4399191b3 button.colab-df-convert');\n",
              "        buttonEl.style.display =\n",
              "          google.colab.kernel.accessAllowed ? 'block' : 'none';\n",
              "\n",
              "        async function convertToInteractive(key) {\n",
              "          const element = document.querySelector('#df-69148215-2aa2-4877-beaa-acf4399191b3');\n",
              "          const dataTable =\n",
              "            await google.colab.kernel.invokeFunction('convertToInteractive',\n",
              "                                                     [key], {});\n",
              "          if (!dataTable) return;\n",
              "\n",
              "          const docLinkHtml = 'Like what you see? Visit the ' +\n",
              "            '<a target=\"_blank\" href=https://colab.research.google.com/notebooks/data_table.ipynb>data table notebook</a>'\n",
              "            + ' to learn more about interactive tables.';\n",
              "          element.innerHTML = '';\n",
              "          dataTable['output_type'] = 'display_data';\n",
              "          await google.colab.output.renderOutput(dataTable, element);\n",
              "          const docLink = document.createElement('div');\n",
              "          docLink.innerHTML = docLinkHtml;\n",
              "          element.appendChild(docLink);\n",
              "        }\n",
              "      </script>\n",
              "    </div>\n",
              "  </div>\n",
              "  "
            ]
          },
          "metadata": {},
          "execution_count": 28
        }
      ]
    },
    {
      "cell_type": "code",
      "source": [
        "train = data_1.iloc[0:10]\n",
        "test = data_1.iloc[10:11]\n",
        "print(train.shape)\n",
        "print(test.shape)"
      ],
      "metadata": {
        "colab": {
          "base_uri": "https://localhost:8080/"
        },
        "id": "nLIQdbaKrg7X",
        "outputId": "544fb75f-a6d1-4d8e-8b7c-9e3c9713a3c9"
      },
      "execution_count": null,
      "outputs": [
        {
          "output_type": "stream",
          "name": "stdout",
          "text": [
            "(10, 5)\n",
            "(1, 5)\n"
          ]
        }
      ]
    },
    {
      "cell_type": "code",
      "source": [
        "X_part_1 = train.drop(['UDP Throughput, Мбит/с', 'Сетевое устройство'], axis=1)\n",
        "y_part_1 = train['UDP Throughput, Мбит/с']\n",
        "X_pred_part_1 = test.drop(['UDP Throughput, Мбит/с', 'Сетевое устройство'], axis=1)\n",
        "\n",
        "s_scaler = StandardScaler()\n",
        "\n",
        "X_part_1 = s_scaler.fit_transform(X_part_1)\n",
        "X_pred_part_1 = s_scaler.fit_transform(X_pred_part_1)"
      ],
      "metadata": {
        "id": "z9ALS9izrjMk"
      },
      "execution_count": null,
      "outputs": []
    },
    {
      "cell_type": "code",
      "source": [
        "lr = LinearRegression()\n",
        "model_part_1 = lr.fit(X_part_1, y_part_1)\n",
        "pred_part_1 = model_part_1.predict(X_pred_part_1)[0]\n",
        "print(f'UDP Throughput для Сетевого устройства № 3 равно: \\033[34m{pred_part_1:.0f} Мбит/с')"
      ],
      "metadata": {
        "colab": {
          "base_uri": "https://localhost:8080/"
        },
        "id": "hBLaTVNMrkJX",
        "outputId": "df2d9b39-d8e0-47f9-bf65-2daa132c3c8a"
      },
      "execution_count": null,
      "outputs": [
        {
          "output_type": "stream",
          "name": "stdout",
          "text": [
            "UDP Throughput для Сетевого устройства № 3 равно: \u001b[34m750 Мбит/с\n"
          ]
        }
      ]
    },
    {
      "cell_type": "markdown",
      "source": [
        "\n",
        "\n",
        "---\n",
        "\n",
        "\n",
        "#### Часть 2.\tСпрогнозировать значения утилизации ЦП и температуры ЦП сетевого устройства №4 с тактовой частотой 1700 ГГц для значений UDP Throughput из таблицы 2."
      ],
      "metadata": {
        "id": "smAMTmGDrpSx"
      }
    },
    {
      "cell_type": "code",
      "source": [
        "# data_2 = pd.read_excel('data_2.xlsx')\n",
        "dict_2 = {'UDP Throughput, Мбит/с': [50, 100, 150, 200, 250, 300, 350, 400, 450, 500]}\n",
        "data_2 = pd.DataFrame(data=dict_2)\n",
        "data_2['Сетевое устройство'] = 4\n",
        "data_2['Тактовая частота ЦП, ГГц'] = 1700\n",
        "data_2['Утилизация ЦП, %'] = np.nan\n",
        "data_2['Температура ЦП, °С'] = np.nan\n",
        "data_2"
      ],
      "metadata": {
        "colab": {
          "base_uri": "https://localhost:8080/",
          "height": 363
        },
        "id": "n6rocHNZrm9d",
        "outputId": "67be9c87-9da4-4c63-df61-7a485a565ac0"
      },
      "execution_count": null,
      "outputs": [
        {
          "output_type": "execute_result",
          "data": {
            "text/plain": [
              "   UDP Throughput, Мбит/с  Сетевое устройство  Тактовая частота ЦП, ГГц  \\\n",
              "0                      50                   4                      1700   \n",
              "1                     100                   4                      1700   \n",
              "2                     150                   4                      1700   \n",
              "3                     200                   4                      1700   \n",
              "4                     250                   4                      1700   \n",
              "5                     300                   4                      1700   \n",
              "6                     350                   4                      1700   \n",
              "7                     400                   4                      1700   \n",
              "8                     450                   4                      1700   \n",
              "9                     500                   4                      1700   \n",
              "\n",
              "   Утилизация ЦП, %  Температура ЦП, °С  \n",
              "0               NaN                 NaN  \n",
              "1               NaN                 NaN  \n",
              "2               NaN                 NaN  \n",
              "3               NaN                 NaN  \n",
              "4               NaN                 NaN  \n",
              "5               NaN                 NaN  \n",
              "6               NaN                 NaN  \n",
              "7               NaN                 NaN  \n",
              "8               NaN                 NaN  \n",
              "9               NaN                 NaN  "
            ],
            "text/html": [
              "\n",
              "  <div id=\"df-5097e2a9-f00a-425a-9e14-653b693c035d\">\n",
              "    <div class=\"colab-df-container\">\n",
              "      <div>\n",
              "<style scoped>\n",
              "    .dataframe tbody tr th:only-of-type {\n",
              "        vertical-align: middle;\n",
              "    }\n",
              "\n",
              "    .dataframe tbody tr th {\n",
              "        vertical-align: top;\n",
              "    }\n",
              "\n",
              "    .dataframe thead th {\n",
              "        text-align: right;\n",
              "    }\n",
              "</style>\n",
              "<table border=\"1\" class=\"dataframe\">\n",
              "  <thead>\n",
              "    <tr style=\"text-align: right;\">\n",
              "      <th></th>\n",
              "      <th>UDP Throughput, Мбит/с</th>\n",
              "      <th>Сетевое устройство</th>\n",
              "      <th>Тактовая частота ЦП, ГГц</th>\n",
              "      <th>Утилизация ЦП, %</th>\n",
              "      <th>Температура ЦП, °С</th>\n",
              "    </tr>\n",
              "  </thead>\n",
              "  <tbody>\n",
              "    <tr>\n",
              "      <th>0</th>\n",
              "      <td>50</td>\n",
              "      <td>4</td>\n",
              "      <td>1700</td>\n",
              "      <td>NaN</td>\n",
              "      <td>NaN</td>\n",
              "    </tr>\n",
              "    <tr>\n",
              "      <th>1</th>\n",
              "      <td>100</td>\n",
              "      <td>4</td>\n",
              "      <td>1700</td>\n",
              "      <td>NaN</td>\n",
              "      <td>NaN</td>\n",
              "    </tr>\n",
              "    <tr>\n",
              "      <th>2</th>\n",
              "      <td>150</td>\n",
              "      <td>4</td>\n",
              "      <td>1700</td>\n",
              "      <td>NaN</td>\n",
              "      <td>NaN</td>\n",
              "    </tr>\n",
              "    <tr>\n",
              "      <th>3</th>\n",
              "      <td>200</td>\n",
              "      <td>4</td>\n",
              "      <td>1700</td>\n",
              "      <td>NaN</td>\n",
              "      <td>NaN</td>\n",
              "    </tr>\n",
              "    <tr>\n",
              "      <th>4</th>\n",
              "      <td>250</td>\n",
              "      <td>4</td>\n",
              "      <td>1700</td>\n",
              "      <td>NaN</td>\n",
              "      <td>NaN</td>\n",
              "    </tr>\n",
              "    <tr>\n",
              "      <th>5</th>\n",
              "      <td>300</td>\n",
              "      <td>4</td>\n",
              "      <td>1700</td>\n",
              "      <td>NaN</td>\n",
              "      <td>NaN</td>\n",
              "    </tr>\n",
              "    <tr>\n",
              "      <th>6</th>\n",
              "      <td>350</td>\n",
              "      <td>4</td>\n",
              "      <td>1700</td>\n",
              "      <td>NaN</td>\n",
              "      <td>NaN</td>\n",
              "    </tr>\n",
              "    <tr>\n",
              "      <th>7</th>\n",
              "      <td>400</td>\n",
              "      <td>4</td>\n",
              "      <td>1700</td>\n",
              "      <td>NaN</td>\n",
              "      <td>NaN</td>\n",
              "    </tr>\n",
              "    <tr>\n",
              "      <th>8</th>\n",
              "      <td>450</td>\n",
              "      <td>4</td>\n",
              "      <td>1700</td>\n",
              "      <td>NaN</td>\n",
              "      <td>NaN</td>\n",
              "    </tr>\n",
              "    <tr>\n",
              "      <th>9</th>\n",
              "      <td>500</td>\n",
              "      <td>4</td>\n",
              "      <td>1700</td>\n",
              "      <td>NaN</td>\n",
              "      <td>NaN</td>\n",
              "    </tr>\n",
              "  </tbody>\n",
              "</table>\n",
              "</div>\n",
              "      <button class=\"colab-df-convert\" onclick=\"convertToInteractive('df-5097e2a9-f00a-425a-9e14-653b693c035d')\"\n",
              "              title=\"Convert this dataframe to an interactive table.\"\n",
              "              style=\"display:none;\">\n",
              "        \n",
              "  <svg xmlns=\"http://www.w3.org/2000/svg\" height=\"24px\"viewBox=\"0 0 24 24\"\n",
              "       width=\"24px\">\n",
              "    <path d=\"M0 0h24v24H0V0z\" fill=\"none\"/>\n",
              "    <path d=\"M18.56 5.44l.94 2.06.94-2.06 2.06-.94-2.06-.94-.94-2.06-.94 2.06-2.06.94zm-11 1L8.5 8.5l.94-2.06 2.06-.94-2.06-.94L8.5 2.5l-.94 2.06-2.06.94zm10 10l.94 2.06.94-2.06 2.06-.94-2.06-.94-.94-2.06-.94 2.06-2.06.94z\"/><path d=\"M17.41 7.96l-1.37-1.37c-.4-.4-.92-.59-1.43-.59-.52 0-1.04.2-1.43.59L10.3 9.45l-7.72 7.72c-.78.78-.78 2.05 0 2.83L4 21.41c.39.39.9.59 1.41.59.51 0 1.02-.2 1.41-.59l7.78-7.78 2.81-2.81c.8-.78.8-2.07 0-2.86zM5.41 20L4 18.59l7.72-7.72 1.47 1.35L5.41 20z\"/>\n",
              "  </svg>\n",
              "      </button>\n",
              "      \n",
              "  <style>\n",
              "    .colab-df-container {\n",
              "      display:flex;\n",
              "      flex-wrap:wrap;\n",
              "      gap: 12px;\n",
              "    }\n",
              "\n",
              "    .colab-df-convert {\n",
              "      background-color: #E8F0FE;\n",
              "      border: none;\n",
              "      border-radius: 50%;\n",
              "      cursor: pointer;\n",
              "      display: none;\n",
              "      fill: #1967D2;\n",
              "      height: 32px;\n",
              "      padding: 0 0 0 0;\n",
              "      width: 32px;\n",
              "    }\n",
              "\n",
              "    .colab-df-convert:hover {\n",
              "      background-color: #E2EBFA;\n",
              "      box-shadow: 0px 1px 2px rgba(60, 64, 67, 0.3), 0px 1px 3px 1px rgba(60, 64, 67, 0.15);\n",
              "      fill: #174EA6;\n",
              "    }\n",
              "\n",
              "    [theme=dark] .colab-df-convert {\n",
              "      background-color: #3B4455;\n",
              "      fill: #D2E3FC;\n",
              "    }\n",
              "\n",
              "    [theme=dark] .colab-df-convert:hover {\n",
              "      background-color: #434B5C;\n",
              "      box-shadow: 0px 1px 3px 1px rgba(0, 0, 0, 0.15);\n",
              "      filter: drop-shadow(0px 1px 2px rgba(0, 0, 0, 0.3));\n",
              "      fill: #FFFFFF;\n",
              "    }\n",
              "  </style>\n",
              "\n",
              "      <script>\n",
              "        const buttonEl =\n",
              "          document.querySelector('#df-5097e2a9-f00a-425a-9e14-653b693c035d button.colab-df-convert');\n",
              "        buttonEl.style.display =\n",
              "          google.colab.kernel.accessAllowed ? 'block' : 'none';\n",
              "\n",
              "        async function convertToInteractive(key) {\n",
              "          const element = document.querySelector('#df-5097e2a9-f00a-425a-9e14-653b693c035d');\n",
              "          const dataTable =\n",
              "            await google.colab.kernel.invokeFunction('convertToInteractive',\n",
              "                                                     [key], {});\n",
              "          if (!dataTable) return;\n",
              "\n",
              "          const docLinkHtml = 'Like what you see? Visit the ' +\n",
              "            '<a target=\"_blank\" href=https://colab.research.google.com/notebooks/data_table.ipynb>data table notebook</a>'\n",
              "            + ' to learn more about interactive tables.';\n",
              "          element.innerHTML = '';\n",
              "          dataTable['output_type'] = 'display_data';\n",
              "          await google.colab.output.renderOutput(dataTable, element);\n",
              "          const docLink = document.createElement('div');\n",
              "          docLink.innerHTML = docLinkHtml;\n",
              "          element.appendChild(docLink);\n",
              "        }\n",
              "      </script>\n",
              "    </div>\n",
              "  </div>\n",
              "  "
            ]
          },
          "metadata": {},
          "execution_count": 32
        }
      ]
    },
    {
      "cell_type": "code",
      "source": [
        "X_part_2 = data_1.iloc[0:10].drop(['Утилизация ЦП, %', 'Температура ЦП, °С', 'Сетевое устройство'], axis=1)\n",
        "\n",
        "y_part_2_procent = data_1.iloc[0:10]['Утилизация ЦП, %']\n",
        "y_part_2_temperature = data_1.iloc[0:10]['Температура ЦП, °С']\n",
        "\n",
        "X_pred_part_2 = data_2.drop(['Утилизация ЦП, %', 'Температура ЦП, °С'], axis=1)\n",
        "X_pred_part_2 = X_pred_part_2[['Тактовая частота ЦП, ГГц', 'UDP Throughput, Мбит/с']]\n"
      ],
      "metadata": {
        "id": "YVCD2gALrsEW"
      },
      "execution_count": null,
      "outputs": []
    },
    {
      "cell_type": "code",
      "source": [
        "# X_part_2 = s_scaler.fit_transform(X_part_2)\n",
        "# X_pred_part_2 = s_scaler.fit_transform(X_pred_part_2)"
      ],
      "metadata": {
        "id": "jBbJjiQWryO_"
      },
      "execution_count": null,
      "outputs": []
    },
    {
      "cell_type": "code",
      "source": [
        "model_part_2_procent = lr.fit(X_part_2, y_part_2_procent)\n",
        "pred_part_2_procent = model_part_2_procent.predict(X_pred_part_2)\n",
        "\n",
        "\n",
        "model_part_2_temperature = lr.fit(X_part_2, y_part_2_temperature)\n",
        "pred_part_2_temperature = model_part_2_procent.predict(X_pred_part_2)\n"
      ],
      "metadata": {
        "id": "TxAEtf1drza0"
      },
      "execution_count": null,
      "outputs": []
    },
    {
      "cell_type": "code",
      "source": [
        "data_2.loc[:, 'Утилизация ЦП, %'] = pred_part_2_procent.astype(int)\n",
        "data_2.loc[:, 'Температура ЦП, °С'] = pred_part_2_temperature.astype(int)\n",
        "data_2.loc[:, 'Сетевое устройство'] = 4"
      ],
      "metadata": {
        "id": "DbDBF_0Qr0M7"
      },
      "execution_count": null,
      "outputs": []
    },
    {
      "cell_type": "markdown",
      "source": [
        "\n",
        "\n",
        "---\n",
        "\n",
        "\n",
        "#### Часть 3. Визуализировать данные о состояниях сетевого устройства №4 из заполненной таблицы 2."
      ],
      "metadata": {
        "id": "tBRyWNXor584"
      }
    },
    {
      "cell_type": "code",
      "source": [
        "df2 = data_2[['UDP Throughput, Мбит/с', 'Утилизация ЦП, %', 'Температура ЦП, °С']]\n",
        "df2"
      ],
      "metadata": {
        "colab": {
          "base_uri": "https://localhost:8080/",
          "height": 363
        },
        "id": "69Q2oPV2r1x0",
        "outputId": "1986ee09-32d2-418c-b661-f47480105c27"
      },
      "execution_count": null,
      "outputs": [
        {
          "output_type": "execute_result",
          "data": {
            "text/plain": [
              "   UDP Throughput, Мбит/с  Утилизация ЦП, %  Температура ЦП, °С\n",
              "0                      50                11                   9\n",
              "1                     100                14                  12\n",
              "2                     150                18                  15\n",
              "3                     200                21                  18\n",
              "4                     250                24                  21\n",
              "5                     300                27                  24\n",
              "6                     350                31                  26\n",
              "7                     400                34                  29\n",
              "8                     450                37                  32\n",
              "9                     500                41                  35"
            ],
            "text/html": [
              "\n",
              "  <div id=\"df-011f85fb-3ffa-4251-8dfd-1e2dcf5676bb\">\n",
              "    <div class=\"colab-df-container\">\n",
              "      <div>\n",
              "<style scoped>\n",
              "    .dataframe tbody tr th:only-of-type {\n",
              "        vertical-align: middle;\n",
              "    }\n",
              "\n",
              "    .dataframe tbody tr th {\n",
              "        vertical-align: top;\n",
              "    }\n",
              "\n",
              "    .dataframe thead th {\n",
              "        text-align: right;\n",
              "    }\n",
              "</style>\n",
              "<table border=\"1\" class=\"dataframe\">\n",
              "  <thead>\n",
              "    <tr style=\"text-align: right;\">\n",
              "      <th></th>\n",
              "      <th>UDP Throughput, Мбит/с</th>\n",
              "      <th>Утилизация ЦП, %</th>\n",
              "      <th>Температура ЦП, °С</th>\n",
              "    </tr>\n",
              "  </thead>\n",
              "  <tbody>\n",
              "    <tr>\n",
              "      <th>0</th>\n",
              "      <td>50</td>\n",
              "      <td>11</td>\n",
              "      <td>9</td>\n",
              "    </tr>\n",
              "    <tr>\n",
              "      <th>1</th>\n",
              "      <td>100</td>\n",
              "      <td>14</td>\n",
              "      <td>12</td>\n",
              "    </tr>\n",
              "    <tr>\n",
              "      <th>2</th>\n",
              "      <td>150</td>\n",
              "      <td>18</td>\n",
              "      <td>15</td>\n",
              "    </tr>\n",
              "    <tr>\n",
              "      <th>3</th>\n",
              "      <td>200</td>\n",
              "      <td>21</td>\n",
              "      <td>18</td>\n",
              "    </tr>\n",
              "    <tr>\n",
              "      <th>4</th>\n",
              "      <td>250</td>\n",
              "      <td>24</td>\n",
              "      <td>21</td>\n",
              "    </tr>\n",
              "    <tr>\n",
              "      <th>5</th>\n",
              "      <td>300</td>\n",
              "      <td>27</td>\n",
              "      <td>24</td>\n",
              "    </tr>\n",
              "    <tr>\n",
              "      <th>6</th>\n",
              "      <td>350</td>\n",
              "      <td>31</td>\n",
              "      <td>26</td>\n",
              "    </tr>\n",
              "    <tr>\n",
              "      <th>7</th>\n",
              "      <td>400</td>\n",
              "      <td>34</td>\n",
              "      <td>29</td>\n",
              "    </tr>\n",
              "    <tr>\n",
              "      <th>8</th>\n",
              "      <td>450</td>\n",
              "      <td>37</td>\n",
              "      <td>32</td>\n",
              "    </tr>\n",
              "    <tr>\n",
              "      <th>9</th>\n",
              "      <td>500</td>\n",
              "      <td>41</td>\n",
              "      <td>35</td>\n",
              "    </tr>\n",
              "  </tbody>\n",
              "</table>\n",
              "</div>\n",
              "      <button class=\"colab-df-convert\" onclick=\"convertToInteractive('df-011f85fb-3ffa-4251-8dfd-1e2dcf5676bb')\"\n",
              "              title=\"Convert this dataframe to an interactive table.\"\n",
              "              style=\"display:none;\">\n",
              "        \n",
              "  <svg xmlns=\"http://www.w3.org/2000/svg\" height=\"24px\"viewBox=\"0 0 24 24\"\n",
              "       width=\"24px\">\n",
              "    <path d=\"M0 0h24v24H0V0z\" fill=\"none\"/>\n",
              "    <path d=\"M18.56 5.44l.94 2.06.94-2.06 2.06-.94-2.06-.94-.94-2.06-.94 2.06-2.06.94zm-11 1L8.5 8.5l.94-2.06 2.06-.94-2.06-.94L8.5 2.5l-.94 2.06-2.06.94zm10 10l.94 2.06.94-2.06 2.06-.94-2.06-.94-.94-2.06-.94 2.06-2.06.94z\"/><path d=\"M17.41 7.96l-1.37-1.37c-.4-.4-.92-.59-1.43-.59-.52 0-1.04.2-1.43.59L10.3 9.45l-7.72 7.72c-.78.78-.78 2.05 0 2.83L4 21.41c.39.39.9.59 1.41.59.51 0 1.02-.2 1.41-.59l7.78-7.78 2.81-2.81c.8-.78.8-2.07 0-2.86zM5.41 20L4 18.59l7.72-7.72 1.47 1.35L5.41 20z\"/>\n",
              "  </svg>\n",
              "      </button>\n",
              "      \n",
              "  <style>\n",
              "    .colab-df-container {\n",
              "      display:flex;\n",
              "      flex-wrap:wrap;\n",
              "      gap: 12px;\n",
              "    }\n",
              "\n",
              "    .colab-df-convert {\n",
              "      background-color: #E8F0FE;\n",
              "      border: none;\n",
              "      border-radius: 50%;\n",
              "      cursor: pointer;\n",
              "      display: none;\n",
              "      fill: #1967D2;\n",
              "      height: 32px;\n",
              "      padding: 0 0 0 0;\n",
              "      width: 32px;\n",
              "    }\n",
              "\n",
              "    .colab-df-convert:hover {\n",
              "      background-color: #E2EBFA;\n",
              "      box-shadow: 0px 1px 2px rgba(60, 64, 67, 0.3), 0px 1px 3px 1px rgba(60, 64, 67, 0.15);\n",
              "      fill: #174EA6;\n",
              "    }\n",
              "\n",
              "    [theme=dark] .colab-df-convert {\n",
              "      background-color: #3B4455;\n",
              "      fill: #D2E3FC;\n",
              "    }\n",
              "\n",
              "    [theme=dark] .colab-df-convert:hover {\n",
              "      background-color: #434B5C;\n",
              "      box-shadow: 0px 1px 3px 1px rgba(0, 0, 0, 0.15);\n",
              "      filter: drop-shadow(0px 1px 2px rgba(0, 0, 0, 0.3));\n",
              "      fill: #FFFFFF;\n",
              "    }\n",
              "  </style>\n",
              "\n",
              "      <script>\n",
              "        const buttonEl =\n",
              "          document.querySelector('#df-011f85fb-3ffa-4251-8dfd-1e2dcf5676bb button.colab-df-convert');\n",
              "        buttonEl.style.display =\n",
              "          google.colab.kernel.accessAllowed ? 'block' : 'none';\n",
              "\n",
              "        async function convertToInteractive(key) {\n",
              "          const element = document.querySelector('#df-011f85fb-3ffa-4251-8dfd-1e2dcf5676bb');\n",
              "          const dataTable =\n",
              "            await google.colab.kernel.invokeFunction('convertToInteractive',\n",
              "                                                     [key], {});\n",
              "          if (!dataTable) return;\n",
              "\n",
              "          const docLinkHtml = 'Like what you see? Visit the ' +\n",
              "            '<a target=\"_blank\" href=https://colab.research.google.com/notebooks/data_table.ipynb>data table notebook</a>'\n",
              "            + ' to learn more about interactive tables.';\n",
              "          element.innerHTML = '';\n",
              "          dataTable['output_type'] = 'display_data';\n",
              "          await google.colab.output.renderOutput(dataTable, element);\n",
              "          const docLink = document.createElement('div');\n",
              "          docLink.innerHTML = docLinkHtml;\n",
              "          element.appendChild(docLink);\n",
              "        }\n",
              "      </script>\n",
              "    </div>\n",
              "  </div>\n",
              "  "
            ]
          },
          "metadata": {},
          "execution_count": 37
        }
      ]
    },
    {
      "cell_type": "code",
      "source": [
        "sns.lineplot(x=df2['UDP Throughput, Мбит/с'], y=df2['Утилизация ЦП, %'])\n",
        "print('Из графика видно что, при увеличении пропускной способности, возрастает загруженность процессора')"
      ],
      "metadata": {
        "colab": {
          "base_uri": "https://localhost:8080/",
          "height": 426
        },
        "id": "ayJaBhcir72W",
        "outputId": "f7cd240c-a0cb-46f3-f765-c408e36a2912"
      },
      "execution_count": null,
      "outputs": [
        {
          "output_type": "stream",
          "name": "stdout",
          "text": [
            "Из графика видно что, при увеличении пропускной способности, возрастает загруженность процессора\n"
          ]
        },
        {
          "output_type": "display_data",
          "data": {
            "text/plain": [
              "<Figure size 698.4x451.44 with 1 Axes>"
            ],
            "image/png": "[encoded data removed]"
          },
          "metadata": {}
        }
      ]
    },
    {
      "cell_type": "code",
      "source": [
        "sns.lineplot(x=df2['UDP Throughput, Мбит/с'], y=df2['Температура ЦП, °С'])\n",
        "print('Из графика видно что, при увеличении пропускной способности, возрастает температура процессора')"
      ],
      "metadata": {
        "colab": {
          "base_uri": "https://localhost:8080/",
          "height": 426
        },
        "id": "8Ta7iBBer9lk",
        "outputId": "03f94afa-f546-48fd-b242-0633f82abdf1"
      },
      "execution_count": null,
      "outputs": [
        {
          "output_type": "stream",
          "name": "stdout",
          "text": [
            "Из графика видно что, при увеличении пропускной способности, возрастает температура процессора\n"
          ]
        },
        {
          "output_type": "display_data",
          "data": {
            "text/plain": [
              "<Figure size 698.4x451.44 with 1 Axes>"
            ],
            "image/png": "[encoded data removed]"
          },
          "metadata": {}
        }
      ]
    },
    {
      "cell_type": "markdown",
      "source": [
        "\n",
        "\n",
        "---\n",
        "\n",
        "\n",
        "# Задание №2\n",
        "    Линейка продукта представлена сетевыми устройствами №1 - 4. Общие требования к этим устройствам выглядят следующим образом:\n",
        "* UDP Throughput не менее 900 Мбит/с\n",
        "* Утилизация ЦП не выше 80%\n",
        "* Температура ЦП не выше 60 °С\n"
      ],
      "metadata": {
        "id": "dV2gVRyEsFoh"
      }
    },
    {
      "cell_type": "markdown",
      "source": [
        "\n",
        "\n",
        "---\n",
        "\n",
        "\n",
        "## Подготовьте требования к методике нагрузочного тестирования сетевых устройств."
      ],
      "metadata": {
        "id": "RcGb09zbsFsJ"
      }
    },
    {
      "cell_type": "markdown",
      "source": [
        "1.\tСформулируйте требования к методу измерения на основании требований к продукту.\n",
        "2.\tОпишите метод измерения:\n",
        "    * Опишите алгоритм проведения тестирования.\n",
        "    * Опишите условия проведения тестирования.\n",
        "    * Опишите тестовое окружение.\n",
        "3.\tПри формировании требований опирайтесь на данные из Задания 1.\n"
      ],
      "metadata": {
        "id": "Hp3hrQzBsFwQ"
      }
    },
    {
      "cell_type": "markdown",
      "source": [
        "\n",
        "\n",
        "---\n",
        "\n",
        "\n",
        "### требования к методике нагрузочного тестирования сетевых устройств"
      ],
      "metadata": {
        "id": "P9zAZtXZsFz3"
      }
    },
    {
      "cell_type": "markdown",
      "source": [
        "Так как UDP Throughput  должна быть не менее 900 Мбит/с, следует начать с этого значения, постепенно увеличивая UDP Throughput  с шагом в 50 Мбит/с (если возможно), фиксируя при этом показания \"Утилизации ЦП\" и \"Температура ЦП\", до тех пор пока \"Утилизация ЦП\" или \"Температура ЦП\" не достигнет критических значений указанных в требованиях к данным сетевым устройствам. Так будет определена максимальная UDP Throughput.\n"
      ],
      "metadata": {
        "id": "Oxp5_iscsF3x"
      }
    },
    {
      "cell_type": "markdown",
      "source": [
        "\n",
        "\n",
        "---\n",
        "\n",
        "\n",
        "#### На основе представленных данных:\n",
        "\n",
        "* Дайте собственные определения понятиям \"метод измерения производительности\" и \"методика нагрузочного тестирования\"\n"
      ],
      "metadata": {
        "id": "ex8-SNiCsY9w"
      }
    },
    {
      "cell_type": "markdown",
      "source": [
        "1. Метод измерения производительности - это метод позволяющий с высокой \n",
        "точностью выявить жизнеспособна ли системы, в тех или иных условиях. То есть это что-то, что заточено под конкретную задачу.\n",
        "\n",
        "2. Методика нагрузочного тестирования, описывает лишь в общих чертах, не привязываясь к конкретной задаче"
      ],
      "metadata": {
        "id": "TMZ8j8MXsZDv"
      }
    }
  ]
}